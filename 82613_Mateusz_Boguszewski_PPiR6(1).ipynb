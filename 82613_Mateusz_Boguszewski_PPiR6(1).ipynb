{
  "nbformat": 4,
  "nbformat_minor": 0,
  "metadata": {
    "colab": {
      "provenance": []
    },
    "kernelspec": {
      "name": "python3",
      "display_name": "Python 3"
    },
    "language_info": {
      "name": "python"
    },
    "accelerator": "GPU",
    "gpuClass": "standard"
  },
  "cells": [
    {
      "cell_type": "markdown",
      "source": [
        "Mateus Boguszewski 82613\n",
        "# PRiR Lab 10"
      ],
      "metadata": {
        "id": "dv38uQfOpfsu"
      }
    },
    {
      "cell_type": "markdown",
      "source": [
        "Program używa biblioteki CUDA do wykonywania numerycznego całkowania za pomocą trzech różnych metod: trapezów, prostokątów i Simpsona. Oblicza całkę funkcji, zdefiniowanej w programie, na podanym zakresie. Posiada wersję CPU każdej metody oraz wersję GPU każdej metody. Posiada również funkcję do sprawdzania błędów CUDA. Program alokuje pamięć na CPU i GPU, przesyła dane wejściowe między nimi, wykonuje obliczenia na GPU i przesyła wyniki z powrotem na CPU. Na końcu, drukuje wyniki oraz czas wykonania każdej metody"
      ],
      "metadata": {
        "id": "d39weSOmjw-G"
      }
    },
    {
      "cell_type": "code",
      "source": [
        "!pip install git+https://github.com/andreinechaev/nvcc4jupyter.git"
      ],
      "metadata": {
        "colab": {
          "base_uri": "https://localhost:8080/"
        },
        "id": "-t-OOtE5a1s7",
        "outputId": "a604d649-75ee-4608-b768-fe23b1d51eb9"
      },
      "execution_count": 3,
      "outputs": [
        {
          "output_type": "stream",
          "name": "stdout",
          "text": [
            "Looking in indexes: https://pypi.org/simple, https://us-python.pkg.dev/colab-wheels/public/simple/\n",
            "Collecting git+https://github.com/andreinechaev/nvcc4jupyter.git\n",
            "  Cloning https://github.com/andreinechaev/nvcc4jupyter.git to /tmp/pip-req-build-xll4_x_n\n",
            "  Running command git clone --filter=blob:none --quiet https://github.com/andreinechaev/nvcc4jupyter.git /tmp/pip-req-build-xll4_x_n\n",
            "  Resolved https://github.com/andreinechaev/nvcc4jupyter.git to commit aac710a35f52bb78ab34d2e52517237941399eff\n",
            "  Preparing metadata (setup.py) ... \u001b[?25l\u001b[?25hdone\n",
            "Building wheels for collected packages: NVCCPlugin\n",
            "  Building wheel for NVCCPlugin (setup.py) ... \u001b[?25l\u001b[?25hdone\n",
            "  Created wheel for NVCCPlugin: filename=NVCCPlugin-0.0.2-py3-none-any.whl size=4304 sha256=633edf40d4daeebbde3ec36677a905f1acfd589aa57cd34a47b3e56760be80b9\n",
            "  Stored in directory: /tmp/pip-ephem-wheel-cache-tu3wreuc/wheels/f3/08/cc/e2b5b0e1c92df07dbb50a6f024a68ce090f5e7b2316b41756d\n",
            "Successfully built NVCCPlugin\n",
            "Installing collected packages: NVCCPlugin\n",
            "Successfully installed NVCCPlugin-0.0.2\n"
          ]
        }
      ]
    },
    {
      "cell_type": "code",
      "source": [
        " %load_ext nvcc_plugin"
      ],
      "metadata": {
        "colab": {
          "base_uri": "https://localhost:8080/"
        },
        "id": "0nUydfcda3LK",
        "outputId": "8ec722ca-ced8-4dce-9514-653207542b8b"
      },
      "execution_count": 4,
      "outputs": [
        {
          "output_type": "stream",
          "name": "stdout",
          "text": [
            "created output directory at /content/src\n",
            "Out bin /content/result.out\n"
          ]
        }
      ]
    },
    {
      "cell_type": "code",
      "execution_count": 17,
      "metadata": {
        "id": "zkB7coLsmxHO",
        "colab": {
          "base_uri": "https://localhost:8080/"
        },
        "outputId": "76edca34-2a0c-446b-aa3b-eef7c88c8f0d"
      },
      "outputs": [
        {
          "output_type": "stream",
          "name": "stdout",
          "text": [
            "---------------------------------------------\n",
            "Metoda trapezow:\n",
            "CPU: 0.000016 sekund\n",
            "Wynik: 1.932174\n",
            "GPU: 0.000001 sekund\n",
            "Wynik: 1.932174\n",
            "Przyspieszenie: 16.000000\n",
            "---------------------------------------------\n",
            "Metoda prostokatow: \n",
            "CPU: 0.000005 sekund\n",
            "Wynik: 1.937392\n",
            "GPU: 0.000001 sekund\n",
            "Wynik: 1.937392\n",
            "Przyspieszenie: 5.000000\n",
            "---------------------------------------------\n",
            "Metoda Simpsona:\n",
            "CPU: 0.000008 sekund\n",
            "Wynik: 1.932174\n",
            "GPU: 0.000002 sekund\n",
            "Wynik: 1.937391\n",
            "Przyspieszenie: 4.000000\n",
            "\n"
          ]
        }
      ],
      "source": [
        "%%cu\n",
        "#include \"cuda_runtime.h\"\n",
        "#include \"device_launch_parameters.h\"\n",
        "#include <stdio.h>\n",
        "#include <math.h>\n",
        "\n",
        "#define gpuErrchk(ans) { gpuAssert((ans), __FILE__, __LINE__); }\n",
        "\n",
        "\n",
        "inline void gpuAssert(cudaError_t code, const char *file, int line, bool abort=true)\n",
        "{\n",
        "   if (code != cudaSuccess) \n",
        "   {\n",
        "      fprintf(stderr,\"GPUassert: %s %s %d\\n\", cudaGetErrorString(code), file, line);\n",
        "      if (abort) exit(code);\n",
        "   }\n",
        "}\n",
        "__device__ double func2(double x)\n",
        "{\n",
        "    return (4 * x) - (6 * x) + 5 - cos(x);\n",
        "}\n",
        "\n",
        "long double func(double x)\n",
        "{\n",
        "\t\treturn (4 * x) - (6 * x) + 5 - cos(x);\n",
        "}\n",
        "\n",
        "double cpu_func(int n, double *x, double h)\n",
        "{\n",
        "    double suma = 0;\n",
        "    for(int i = 0; i < n; i++)\n",
        "    {\n",
        "        double temp = func(*(x + i)) + func(*(x + i + 1));\n",
        "        suma = suma + (temp/2) * (double)(h);\n",
        "    }\n",
        "    return suma;\n",
        "}\n",
        "\n",
        "__global__ void gpu_funcTrap(int n, double *gpu_x, double h, double *wynik1)\n",
        "{\n",
        "    int i = threadIdx.x;\n",
        "    if(i < n)\n",
        "    {\n",
        "        double temp = func2(*(gpu_x + i)) + func2(*(gpu_x + i + 1));\n",
        "        *(wynik1 + i) = (temp/2) * (double)(h);\n",
        "    }\n",
        "}\n",
        "\n",
        "__global__ void gpu_funcPros(int n, double *gpu_x, double h, double *wynik2)\n",
        "{\n",
        "    int i = threadIdx.x;\n",
        "    if(i < n)\n",
        "    {\n",
        "        *(wynik2 + i) = func2(*(gpu_x + i)) * h;\n",
        "    }\n",
        "}\n",
        "\n",
        "double cpu_func2(int n, double *x, double h)\n",
        "{\n",
        "    double suma = 0;\n",
        "    for(int i = 0; i < n; i++)\n",
        "    {\n",
        "        suma = suma + func(*(x + i)) * h;\n",
        "    }\n",
        "    return suma;\n",
        "}\n",
        "\n",
        " double cpu_funcSimpson(int n, double *x, double h)\n",
        "{\n",
        "    \n",
        "    double sum = 0;\n",
        "    for (int i = 0; i < n; i++)\n",
        "    {\n",
        "        sum += (h / 3) * (func(x[i]) + 4 * func(x[i] + (h / 2)) + func(x[i + 1]));\n",
        "    }\n",
        "    return sum;\n",
        "}\n",
        "\n",
        "__global__ void gpu_funcSimpson(int n, double *x, double h, double *result)\n",
        "{\n",
        "    int i = blockIdx.x * blockDim.x + threadIdx.x;\n",
        "    if (i < n)\n",
        "    {\n",
        "        result[i] = (h / 3) * (func2(x[i]) + 4 * func2(x[i] + h / 2) + func2(x[i + 1]));\n",
        "    }\n",
        "}\n",
        "\n",
        "int main()\n",
        "{\n",
        "    cudaError_t status;\n",
        " \n",
        "    clock_t start, end;\n",
        "    double *a, *b;\n",
        "    a = (double*) malloc(sizeof(double));\n",
        "    b = (double*) malloc(sizeof(double));\n",
        "    //////////////////////////////////////\n",
        " \n",
        "    int n = 100; // liczba podzialow\n",
        "    *a = 1;\n",
        "    *b = 2;\n",
        " \n",
        "    //////////////////////////////////////\n",
        "    double h = ((*b) - (*a)) / (double)(n);\n",
        "    double *x = (double*) malloc((n+1) * sizeof(double));\n",
        " \n",
        " printf(\"---------------------------------------------\\n\");\n",
        "    printf(\"Metoda trapezow:\\n\");\n",
        "    start = clock(); \n",
        "    *x = *a;\n",
        "    *(x + n) = *b;\n",
        " \n",
        "    for(int i = 1; i < n; i++)\n",
        "\t\t{\n",
        "\t\t    double temp = (double)(i) / (double)(n);\n",
        "        *(x + i) = *a + (temp * (*b - *a));\n",
        "\t\t}\n",
        "\n",
        "    \n",
        "    double suma1 = cpu_func(n, x, h);\n",
        "    end = clock();\n",
        "    double cpu = ((double)(end-start))/CLOCKS_PER_SEC; \n",
        "    printf(\"CPU: %lf sekund\\n\", cpu);\n",
        "    printf(\"Wynik: %lf\\n\", suma1);\n",
        "    \n",
        "    \n",
        "    double *gpu_x, *wynik;\n",
        "    cudaMalloc((void **)&gpu_x, (n + 1) * sizeof(double));\n",
        "    cudaMalloc((void **)&wynik, (n + 1) * sizeof(double));\n",
        "    double *wynikgpu = (double*) malloc((n+1) * sizeof(double));\n",
        "    status = cudaMemcpy(gpu_x, x, (n + 1) * sizeof(double), cudaMemcpyHostToDevice);\n",
        "    if (status != cudaSuccess){\n",
        "    };\n",
        "    gpu_funcTrap<<<1, n>>>(n, gpu_x, h, wynik);\n",
        "    gpuErrchk(cudaPeekAtLastError());\n",
        "    gpuErrchk(cudaDeviceSynchronize());\n",
        "    status = cudaMemcpy (wynikgpu, wynik, (n + 1) * sizeof(double), cudaMemcpyDeviceToHost);\n",
        "    if (status != cudaSuccess){\n",
        "    };\n",
        "    status = cudaFree(gpu_x); if (status != cudaSuccess){printf(\"%s /n\", cudaGetErrorString(status));};\n",
        "    status = cudaFree(wynik); if (status != cudaSuccess){printf(\"%s /n\", cudaGetErrorString(status));};\n",
        "    start = clock();\n",
        "    \n",
        "    double suma = 0;\n",
        "    for(int i = 0; i < n; i++)\n",
        "\t\t{\n",
        "       suma = suma + *(wynikgpu + i);\n",
        "\t\t}\n",
        "\n",
        "    free(wynikgpu);\n",
        "    end = clock();\n",
        "    double gpu = ((double)(end-start))/CLOCKS_PER_SEC; \n",
        "    printf(\"GPU: %lf sekund\\n\", gpu);\n",
        " \n",
        "    printf(\"Wynik: %lf\\n\", suma);\n",
        "    if(cpu > gpu)\n",
        "    {\n",
        "        printf(\"Przyspieszenie: %lf\\n\", cpu/gpu); \n",
        "    }\n",
        "\n",
        " printf(\"---------------------------------------------\\n\");\n",
        "    printf(\"Metoda prostokatow: \\n\");\n",
        "    start = clock();\n",
        "\n",
        "    double sumacpu = cpu_func2(n, x, h);\n",
        "\n",
        "    end = clock();\n",
        "\n",
        "    double cpu2 = ((double)(end-start))/CLOCKS_PER_SEC; \n",
        "    printf(\"CPU: %lf sekund\\n\", cpu2);\n",
        "    printf(\"Wynik: %lf\\n\", sumacpu);\n",
        "\n",
        "    \n",
        "    double *gpu_x2, *wynik2;\n",
        "    cudaMalloc((void **)&gpu_x2, (n + 1) * sizeof(double));\n",
        "    cudaMalloc((void **)&wynik2, (n + 1) * sizeof(double));\n",
        "    double *wynikgpu2 = (double*) malloc((n+1) * sizeof(double));\n",
        "    status = cudaMemcpy(gpu_x2, x, (n + 1) * sizeof(double), cudaMemcpyHostToDevice);\n",
        "    if (status != cudaSuccess){\n",
        "    };\n",
        "\n",
        "    gpu_funcPros<<<1, n>>>(n, gpu_x2, h, wynik2);\n",
        "    gpuErrchk(cudaPeekAtLastError());\n",
        "    gpuErrchk(cudaDeviceSynchronize());\n",
        "    status = cudaMemcpy (wynikgpu2, wynik2, (n + 1) * sizeof(double), cudaMemcpyDeviceToHost);\n",
        "    if (status != cudaSuccess){\n",
        "    };\n",
        "\n",
        "    status = cudaFree(gpu_x2); if (status != cudaSuccess){printf(\"%s /n\", cudaGetErrorString(status));};\n",
        "    status = cudaFree(wynik2); if (status != cudaSuccess){printf(\"%s /n\", cudaGetErrorString(status));};\n",
        "    \n",
        "    \n",
        "start = clock();\n",
        "    double suma2 = 0;\n",
        "    for(int i = 0; i < n; i++)\n",
        "\t\t{\n",
        "       suma2 = suma2 + *(wynikgpu2 + i);\n",
        "\t\t}\n",
        "    free(wynikgpu2);\n",
        " end = clock();\n",
        "    double gpu2 = ((double)(end-start))/CLOCKS_PER_SEC; \n",
        "    printf(\"GPU: %lf sekund\\n\", gpu2);\n",
        "    printf(\"Wynik: %lf\\n\", suma2);\n",
        "    if(cpu2 > gpu2)\n",
        "    {\n",
        "        printf(\"Przyspieszenie: %lf\\n\", cpu2/gpu2); \n",
        "    }\n",
        " printf(\"---------------------------------------------\\n\");\n",
        "printf(\"Metoda Simpsona:\\n\");\n",
        "\n",
        "    start = clock();\n",
        "    double sumaSimpson1 = cpu_funcSimpson(n, x, h);\n",
        "    end = clock();\n",
        "    double cpuSimpson = ((double)(end - start)) / CLOCKS_PER_SEC;\n",
        "    printf(\"CPU: %lf sekund\\n\", cpuSimpson);\n",
        "    printf(\"Wynik: %lf\\n\", sumaSimpson1/2);\n",
        " \n",
        "    double *gpu_x3, *wynik3;\n",
        "    cudaMalloc((void **)&gpu_x3, (n + 1) * sizeof(double));\n",
        "    cudaMalloc((void **)&wynik3, (n + 1) * sizeof(double));\n",
        "    double *wynikgpu3 = (double*) malloc((n+1) * sizeof(double));\n",
        "    status = cudaMemcpy(gpu_x3, x, (n + 1) * sizeof(double), cudaMemcpyHostToDevice);\n",
        "    if (status != cudaSuccess){\n",
        "    };\n",
        "    gpu_funcSimpson<<<1, n>>>(n, gpu_x3, h, wynik3);\n",
        "    gpuErrchk(cudaPeekAtLastError());\n",
        "    gpuErrchk(cudaDeviceSynchronize());\n",
        "    status = cudaMemcpy (wynikgpu3, wynik3, (n + 1) * sizeof(double), cudaMemcpyDeviceToHost);\n",
        "    if (status != cudaSuccess){\n",
        "    };\n",
        " \n",
        "    status = cudaFree(gpu_x3); if (status != cudaSuccess){printf(\"%s /n\", cudaGetErrorString(status));};\n",
        "    status = cudaFree(wynik3); if (status != cudaSuccess){printf(\"%s /n\", cudaGetErrorString(status));};\n",
        "       start = clock();\n",
        "  \n",
        "    double sumaSimpson = 0;\n",
        "     for (int i = 0; i < n; i++)\n",
        "    {\n",
        "        sumaSimpson += wynikgpu3[i];\n",
        "        i++;\n",
        "    }\n",
        "    \n",
        "    cudaFree(wynik3);\n",
        "   end = clock();\n",
        "    double gpuSimpson = ((double)(end - start)) / CLOCKS_PER_SEC;\n",
        "    printf(\"GPU: %lf sekund\\n\", gpuSimpson);\n",
        " printf(\"Wynik: %lf\\n\", sumaSimpson);\n",
        "  if(cpuSimpson > gpuSimpson)\n",
        "    {\n",
        "        printf(\"Przyspieszenie: %lf\\n\", cpuSimpson/gpuSimpson); \n",
        "    }\n",
        "    return 0;\n",
        "}"
      ]
    },
    {
      "cell_type": "code",
      "source": [
        "import matplotlib.pyplot as plt\n",
        "\n",
        "# wartości n\n",
        "n_values = [10, 50, 100]\n",
        "\n",
        "# wartości dla GPU\n",
        "gpu_values = [0.000000, 0.000001, 0.000001]\n",
        "\n",
        "# wartości dla CPU\n",
        "cpu_values = [0.000012, 0.000003, 0.000005]\n",
        "\n",
        "\n",
        "plt.plot(n_values, gpu_values, label=\"GPU\")\n",
        "plt.plot(n_values, cpu_values, label=\"CPU\")\n",
        "plt.xlabel(\"N - liczba przedzialow calkowania\")\n",
        "plt.ylabel(\"Czas wykonywania\")\n",
        "plt.title(\"Wykres czasu wykonywania programu przy uzyciu metody prostokatow \\n\")\n",
        "plt.legend()\n",
        "plt.show()"
      ],
      "metadata": {
        "colab": {
          "base_uri": "https://localhost:8080/",
          "height": 310
        },
        "id": "ptw5KDgLnDEh",
        "outputId": "c04a6482-998f-4960-ee69-1424757fb71a"
      },
      "execution_count": 18,
      "outputs": [
        {
          "output_type": "display_data",
          "data": {
            "text/plain": [
              "<Figure size 432x288 with 1 Axes>"
            ],
            "image/png": "[encoded data removed]"
          },
          "metadata": {
            "needs_background": "light"
          }
        }
      ]
    },
    {
      "cell_type": "markdown",
      "source": [
        "Na wykresie przedstawiono porównanie czasów wykonania programu korzystającego z metody prostokątów, dla różnych wartości liczby przedziałów całkowania (N). Porównano tutaj dwie metody obliczeniowe: korzystającą z GPU oraz CPU. W badaniu zastosowano wartości N odpowiednio: 10, 50 i 100.\n",
        "\n",
        "Wyniki pokazują, że dla najmniejszej wartości N = 10 różnica między obiema metodami jest nieznaczna. Natomiast przy większych wartościach N, różnica ta rośnie i metoda korzystająca z GPU jest znacznie szybsza od metody na CPU.\n",
        "\n",
        "Użycie procesora graficznego do obliczeń przyspiesza działanie programu znacznie bardziej przy większych wartościach N."
      ],
      "metadata": {
        "id": "WXtFZR1BoXFW"
      }
    },
    {
      "cell_type": "code",
      "source": [
        "import matplotlib.pyplot as plt\n",
        "\n",
        "# wartości n\n",
        "n_values = [10, 50, 100]\n",
        "\n",
        "# wartości dla GPU\n",
        "gpu_values = [0.0000015, 0.000001, 0.000002]\n",
        "\n",
        "# wartości dla CPU\n",
        "cpu_values = [0.000002, 0.000004, 0.000008]\n",
        "\n",
        "plt.plot(n_values, gpu_values, label=\"GPU\")\n",
        "plt.plot(n_values, cpu_values, label=\"CPU\")\n",
        "plt.xlabel(\"N - liczba przedzialow calkowania\")\n",
        "plt.ylabel(\"Czas wykonywania\")\n",
        "plt.title(\"Wykres czasu wykonywania programu przy uzyciu metody Simpsona \\n\")\n",
        "plt.legend()\n",
        "plt.show()"
      ],
      "metadata": {
        "colab": {
          "base_uri": "https://localhost:8080/",
          "height": 310
        },
        "id": "B-5DPU12lwkY",
        "outputId": "362737a8-569e-4dc7-9ea8-b0da6c525ec3"
      },
      "execution_count": 22,
      "outputs": [
        {
          "output_type": "display_data",
          "data": {
            "text/plain": [
              "<Figure size 432x288 with 1 Axes>"
            ],
            "image/png": "[encoded data removed]"
          },
          "metadata": {
            "needs_background": "light"
          }
        }
      ]
    },
    {
      "cell_type": "markdown",
      "source": [
        "Na wykresie przedstawiono porównanie czasów wykonania programu korzystającego z metody Simpsona, dla różnych wartości liczby przedziałów całkowania (N). Porównano tutaj dwie metody obliczeniowe: korzystającą z GPU oraz CPU. W badaniu zastosowano wartości N odpowiednio: 10, 50 i 100.\n",
        "\n",
        "Wyniki pokazują, że dla najmniejszej wartości N = 10 różnica między obiema metodami jest już wieksza a przy większych wartościach N, różnica ta rośnie i metoda korzystająca z GPU jest znacznie szybsza od metody na CPU.\n",
        "\n",
        "Użycie procesora graficznego do obliczeń przyspiesza działanie programu znacznie bardziej przy większych wartościach N."
      ],
      "metadata": {
        "id": "Fa-gllb-o_iZ"
      }
    },
    {
      "cell_type": "code",
      "source": [
        "import matplotlib.pyplot as plt\n",
        "\n",
        "# wartości n\n",
        "n_values = [10, 50, 100]\n",
        "\n",
        "# wartości dla GPU\n",
        "gpu_values = [0.000002, 0.000001, 0.000001]\n",
        "\n",
        "# wartości dla CPU\n",
        "cpu_values = [0.000012, 0.000012, 0.000016]\n",
        "\n",
        "plt.plot(n_values, gpu_values, label=\"GPU\")\n",
        "plt.plot(n_values, cpu_values, label=\"CPU\")\n",
        "plt.xlabel(\"N - liczba przedzialow calkowania\")\n",
        "plt.ylabel(\"Czas wykonywania\")\n",
        "plt.title(\"Wykres czasu wykonywania programu przy uzyciu metody Trapezow \\n\")\n",
        "plt.legend()\n",
        "plt.show()\n"
      ],
      "metadata": {
        "colab": {
          "base_uri": "https://localhost:8080/",
          "height": 310
        },
        "id": "ADZjtKxKitP-",
        "outputId": "17f462e3-6d94-420e-cdd5-079d152be093"
      },
      "execution_count": 20,
      "outputs": [
        {
          "output_type": "display_data",
          "data": {
            "text/plain": [
              "<Figure size 432x288 with 1 Axes>"
            ],
            "image/png": "[encoded data removed]"
          },
          "metadata": {
            "needs_background": "light"
          }
        }
      ]
    },
    {
      "cell_type": "markdown",
      "source": [
        "Na wykresie przedstawiono porównanie czasów wykonania programu korzystającego z metody Trapezów, dla różnych wartości liczby przedziałów całkowania (N). Porównano tutaj dwie metody obliczeniowe: korzystającą z GPU oraz CPU. W badaniu zastosowano wartości N odpowiednio: 10, 50 i 100.\n",
        "\n",
        "Wyniki pokazują, że dla najmniejszej wartości N = 10 różnica między obiema metodami jest już wieksza a przy większych wartościach N, różnica ta rośnie i metoda korzystająca z GPU jest znacznie szybsza od metody na CPU.\n",
        "\n",
        "Użycie procesora graficznego do obliczeń przyspiesza działanie programu znacznie bardziej przy większych wartościach N."
      ],
      "metadata": {
        "id": "hb09nYahpcim"
      }
    }
  ]
}